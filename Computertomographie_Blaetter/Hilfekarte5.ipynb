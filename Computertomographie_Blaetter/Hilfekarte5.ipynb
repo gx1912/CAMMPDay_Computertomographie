{
 "cells": [
  {
   "cell_type": "markdown",
   "metadata": {},
   "source": [
    "# Hilfekarte 5\n",
    "Bei dieser Teilaufgabe muss der Sinus, Kosinus oder Tangens verwendet werden. Diese beschreiben Seitenverhältnisse in rechtwinkligen Dreiecken.\n",
    "\n",
    "![alternative text](figs/cossintan.png)"
   ]
  },
  {
   "cell_type": "code",
   "execution_count": null,
   "metadata": {},
   "outputs": [],
   "source": []
  }
 ],
 "metadata": {
  "kernelspec": {
   "display_name": "Julia 1.1.0",
   "language": "julia",
   "name": "julia-1.1"
  },
  "language_info": {
   "file_extension": ".jl",
   "mimetype": "application/julia",
   "name": "julia",
   "version": "1.1.0"
  }
 },
 "nbformat": 4,
 "nbformat_minor": 2
}

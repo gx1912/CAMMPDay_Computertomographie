{
 "cells": [
  {
   "cell_type": "markdown",
   "metadata": {},
   "source": [
    "# Hilfekarte 13\n",
    "Überprüft eure Matrix-Vektormultiplikation mit der folgenden und schaut, ob ihr eventuell einen Fehler gemacht habe.\n",
    "\n",
    "$||A\\cdot \\vec{f}_{nah}-\\vec{m}||^2_2= ||\\pmatrix{A_{1,1}&A_{1,2}\\cr A_{2,1}&A_{2,2}}\\cdot\\pmatrix{f_{1}\\cr f_{2}}-\\pmatrix{m_{1}\\cr m_{2}}||^2_2=||\\begin{pmatrix}A_{1,1}\\cdot f_1+A_{1,2}\\cdot f_2\\\\A_{2,1}\\cdot f_1+A_{2,2}\\cdot f_2\\end{pmatrix}-\\begin{pmatrix}m_1\\\\m_2\\end{pmatrix}||^2_2=\\sqrt{(A_{1,1}\\cdot f_1+A_{1,2}\\cdot f_2-m_1)^2+(A_{2,1}\\cdot f_1+A_{2,2}\\cdot f_2-m_2)^2}^2=(A_{1,1}\\cdot f_1+A_{1,2}\\cdot f_2-m_1)^2+(A_{2,1}\\cdot f_1+A_{2,2}\\cdot f_2-m_2)^2$"
   ]
  },
  {
   "cell_type": "code",
   "execution_count": null,
   "metadata": {},
   "outputs": [],
   "source": []
  }
 ],
 "metadata": {
  "kernelspec": {
   "display_name": "Julia 1.1.0",
   "language": "julia",
   "name": "julia-1.1"
  },
  "language_info": {
   "file_extension": ".jl",
   "mimetype": "application/julia",
   "name": "julia",
   "version": "1.1.0"
  }
 },
 "nbformat": 4,
 "nbformat_minor": 2
}

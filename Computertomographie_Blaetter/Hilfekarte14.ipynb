{
 "cells": [
  {
   "cell_type": "markdown",
   "metadata": {},
   "source": [
    "# Hilfekarte 14\n",
    "Vergleicht eure Matrix-Vektormultiplikationen mit diesen:\n",
    "\n",
    "$A\\cdot\\vec{f} = \\pmatrix{A_{1,1}&A_{1,2}\\cr A_{2,1}&A_{2,2}}\\cdot\\pmatrix{f_{1}\\cr f_{2}} = \\begin{pmatrix}A_{1,1}\\cdot f_1+A_{1,2}\\cdot f_2\\\\A_{2,1}\\cdot f_1+A_{2,2}\\cdot f_2\\end{pmatrix}$\n",
    "\n",
    "$transpose(A)\\cdot A\\cdot\\vec{f} = \\pmatrix{A_{1,1}&A_{2,1}\\cr A_{1,2}&A_{2,2}}\\cdot\\pmatrix{A_{1,1}&A_{1,2}\\cr A_{2,1}&A_{2,2}}\\cdot\\pmatrix{f_{1}\\cr f_{2}} = \\pmatrix{A_{1,1}&A_{2,1}\\cr A_{1,2}&A_{2,2}}\\cdot\\begin{pmatrix}A_{1,1}\\cdot f_1+A_{1,2}\\cdot f_2\\\\A_{2,1}\\cdot f_1+A_{2,2}\\cdot f_2\\end{pmatrix} = \\begin{pmatrix}A_{1,1}^2\\cdot f_1+A_{1,1}\\cdot A_{1,2}\\cdot f_2+A_{2,1}^2\\cdot f_1+A_{2,1}\\cdot A_{2,2}\\cdot f_2\\\\A_{1,1}\\cdot A_{1,2}\\cdot f_1+A_{1,2}^2\\cdot f_2+A_{2,1}\\cdot A_{2,2}\\cdot f_1+A_{2,2}^2\\cdot f_2\\end{pmatrix}$\n",
    "\n",
    "$transpose(A)\\cdot \\vec{m}=\\pmatrix{A_{1,1}&A_{2,1}\\cr A_{1,2}&A_{2,2}}\\cdot\\pmatrix{m_1\\cr m_2}=\\begin{pmatrix}A_{1,1}\\cdot m_1+A_{2,1}\\cdot m_2\\\\A_{1,2}\\cdot m_1+A_{2,2}\\cdot m_2\\end{pmatrix} $\n",
    "    \n",
    "Vergleicht nun eure Ableitungen mit diesen Multiplikationen."
   ]
  },
  {
   "cell_type": "code",
   "execution_count": null,
   "metadata": {},
   "outputs": [],
   "source": []
  }
 ],
 "metadata": {
  "kernelspec": {
   "display_name": "Julia 1.1.0",
   "language": "julia",
   "name": "julia-1.1"
  },
  "language_info": {
   "file_extension": ".jl",
   "mimetype": "application/julia",
   "name": "julia",
   "version": "1.1.0"
  }
 },
 "nbformat": 4,
 "nbformat_minor": 2
}

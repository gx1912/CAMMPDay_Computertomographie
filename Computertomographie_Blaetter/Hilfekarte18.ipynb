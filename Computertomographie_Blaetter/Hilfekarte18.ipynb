{
 "cells": [
  {
   "cell_type": "markdown",
   "metadata": {},
   "source": [
    "# Hilfekarte 18\n",
    "Die folgende Rechnung kann aus Dimensionsgründen nicht durchgeführt werden: $\\left(\\begin{pmatrix}1 & 4\\\\-2 & 3\\end{pmatrix}+\\alpha\\right)\\cdot\\vec{f}$.\n",
    "\n",
    "So etwas kann zustande kommen, wenn ein Vektor ausgeklammert wurde und die Gleichung eigentlich $\\begin{pmatrix}1 & 4\\\\-2 & 3\\end{pmatrix}\\cdot\\vec{f}+\\alpha\\cdot\\vec{f}$ lautet. Hier liegen keine Dimenionsprobleme vor. Um diese auch in der oberen Gleichung zu beheben, wird die Einheitsmatrix verwendet, welche wie folgt aussieht:\n",
    "\n",
    "$I=\\begin{pmatrix}1&0\\\\0&1\\end{pmatrix}.$\n",
    "\n",
    "Multipliziert man einen Vektor mit dieser Matrix, verändert sich nichts und es kommt wieder Vektor heraus. Wird jedoch eine Zahl mit dieser Matrix multipliziert, steht die Zahl auf der Diagonalen.\n",
    "\n",
    "$\\begin{pmatrix}1 & 4\\\\-2 & 3\\end{pmatrix}\\cdot\\vec{f}+\\alpha\\cdot\\vec{f}=\\begin{pmatrix}1 & 4\\\\-2 & 3\\end{pmatrix}\\cdot\\vec{f}+\\alpha\\cdot I\\cdot\\vec{f}=\\left(\\begin{pmatrix}1 & 4\\\\-2 & 3\\end{pmatrix}+\\alpha\\cdot I\\right)\\cdot\\vec{f}.$\n",
    "\n",
    "Übertragt dies auf eure Problemstellung."
   ]
  },
  {
   "cell_type": "code",
   "execution_count": null,
   "metadata": {},
   "outputs": [],
   "source": []
  }
 ],
 "metadata": {
  "kernelspec": {
   "display_name": "Julia 1.1.0",
   "language": "julia",
   "name": "julia-1.1"
  },
  "language_info": {
   "file_extension": ".jl",
   "mimetype": "application/julia",
   "name": "julia",
   "version": "1.1.0"
  }
 },
 "nbformat": 4,
 "nbformat_minor": 2
}

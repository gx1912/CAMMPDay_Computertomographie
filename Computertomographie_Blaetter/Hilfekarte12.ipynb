{
 "cells": [
  {
   "cell_type": "markdown",
   "metadata": {},
   "source": [
    "# Hilfekarte 12\n",
    "Nicht jedes Gleichungssystem hat eine eindeutige Lösung:\n",
    "\n",
    "$\\begin{pmatrix}1&1\\\\0&2\\\\3&1\\end{pmatrix}\\cdot\\begin{pmatrix}x\\\\y\\end{pmatrix}=\\begin{pmatrix}-5\\\\7\\\\1\\end{pmatrix}$\n",
    "\n",
    "$\\begin{eqnarray}\n",
    "    x+y&=&-5\\nonumber\\\\\n",
    "    2y &=& 7\\nonumber\\\\\n",
    "    3x+y &=& 1 \\nonumber\n",
    "\\end{eqnarray}$\n",
    "\n",
    "$\\Rightarrow$ Es gibt für dieses Gleichungssystem keine Lösung!\n",
    "\n",
    "Man sucht den Vektor $\\begin{pmatrix}x\\\\y\\end{pmatrix}$, der den geringsten Abstand zu $\\begin{pmatrix}-5\\\\7\\\\1\\end{pmatrix}$ hat. \n",
    "\n",
    "Hierfür muss man $||\\begin{pmatrix}1&1\\\\0&2\\\\3&1\\end{pmatrix}\\cdot\\begin{pmatrix}x\\\\y\\end{pmatrix}-\\begin{pmatrix}-5\\\\7\\\\1\\end{pmatrix}||$ minimieren. Das müsst ihr jetzt nicht tun, sondern ab hier würde der Laptop die Berechnungen übernehmen.\n",
    "\n",
    "Übertragt dieses Vorgehen auf den von euch gesuchten Vektor und schreibt die Formel, die minimiert werden soll unter Formel auf."
   ]
  },
  {
   "cell_type": "code",
   "execution_count": null,
   "metadata": {},
   "outputs": [],
   "source": []
  }
 ],
 "metadata": {
  "kernelspec": {
   "display_name": "Julia 1.1.0",
   "language": "julia",
   "name": "julia-1.1"
  },
  "language_info": {
   "file_extension": ".jl",
   "mimetype": "application/julia",
   "name": "julia",
   "version": "1.1.0"
  }
 },
 "nbformat": 4,
 "nbformat_minor": 2
}

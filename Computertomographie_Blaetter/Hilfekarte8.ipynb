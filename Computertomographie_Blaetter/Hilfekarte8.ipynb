{
 "cells": [
  {
   "cell_type": "markdown",
   "metadata": {},
   "source": [
    "# Hilfekarte 8\n",
    "In einem rechtwinkligen Dreieck gelten folgende Zusammenhänge:\n",
    "\n",
    "![alternative text](figs/cossintan.png)\n",
    "\n",
    "Daraus lassen sich einige Schlüsse ziehen:\n",
    "* Hat die Hypothenuse die Länge 1, so gilt:\n",
    "\n",
    "   $Gegenkathete = sin(\\theta)$\n",
    "   \n",
    "   $Ankathete = cos(\\theta)$\n",
    "   \n",
    "* Egal welche Länge die Hypothenuse hat, kann man über den Winkel die Steigung $m$ der Hypothenuse bestimmen, indem man das Verhältnis der Änderungen in y ($\\Delta y$) und der in x ($\\Delta x$) als sprich das Verhältnis zwischen den Längen der Gegenkathete und der Ankathete betrachtet:\n",
    "\n",
    "   $m=\\frac{y}{x}=\\frac{\\frac{sin(\\theta}{Hypothenuse}}{\\frac{cos(\\theta}{Hypothenuse}}=\\frac{sin(\\theta)}{cos(\\theta)}=tan(\\theta)$"
   ]
  }
 ],
 "metadata": {
  "kernelspec": {
   "display_name": "Julia 1.1.0",
   "language": "julia",
   "name": "julia-1.1"
  },
  "language_info": {
   "file_extension": ".jl",
   "mimetype": "application/julia",
   "name": "julia",
   "version": "1.1.0"
  }
 },
 "nbformat": 4,
 "nbformat_minor": 2
}

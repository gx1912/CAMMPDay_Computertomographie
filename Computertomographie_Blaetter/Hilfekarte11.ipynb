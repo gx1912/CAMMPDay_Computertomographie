{
 "cells": [
  {
   "cell_type": "markdown",
   "metadata": {},
   "source": [
    "# Hilfekarte 11\n",
    "Übertragen auf die Ebene wird ein Vektor gesucht, der senkrecht auf der Ebene steht. Man nennt diesen Normalenvektor. Das besondere dieser Vektoren ist, dass sie, um senkrecht zur Ebene zu stehen auch senkrecht zu beiden Richtungsvektoren $\\vec{u}$ und $\\vec{v}$ der Ebene stehen.\n",
    "\n",
    "Ihr müsst also einen Vektor $\\vec{n}$ suchen für den sowohl das Skalarprodukt $\\vec{u}\\cdot \\vec{n}$ als auch das Skalarprodukt $\\vec{v}\\cdot \\vec{n}$ Null ergeben.\n",
    "\n",
    "Geht hierbei genauso vor, wie es bei der Hilfekarte 10 bei der Gerade gezeigt wird."
   ]
  },
  {
   "cell_type": "code",
   "execution_count": null,
   "metadata": {},
   "outputs": [],
   "source": []
  }
 ],
 "metadata": {
  "kernelspec": {
   "display_name": "Julia 1.1.0",
   "language": "julia",
   "name": "julia-1.1"
  },
  "language_info": {
   "file_extension": ".jl",
   "mimetype": "application/julia",
   "name": "julia",
   "version": "1.1.0"
  }
 },
 "nbformat": 4,
 "nbformat_minor": 2
}

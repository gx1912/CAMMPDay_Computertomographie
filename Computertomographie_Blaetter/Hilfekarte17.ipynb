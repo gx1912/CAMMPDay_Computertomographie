{
 "cells": [
  {
   "cell_type": "markdown",
   "metadata": {},
   "source": [
    "# Hilfekarte 17\n",
    "Matrizen und Vektoren dürfen nicht gekürzt werden. \n",
    "\n",
    "Wenn ihr bei euren Umformungen bis zu dieser Formel \n",
    "\n",
    "$transpose(A)*A*f=transpose(A)*Messwerte$ \n",
    "\n",
    "gekommen seid, dürft ihr nicht auf beiden Seiten das $transpose(A)$ streichen, sondern müsst es stehen lassen und weiter nach $f$ umform."
   ]
  },
  {
   "cell_type": "code",
   "execution_count": null,
   "metadata": {},
   "outputs": [],
   "source": []
  }
 ],
 "metadata": {
  "kernelspec": {
   "display_name": "Julia 1.1.0",
   "language": "julia",
   "name": "julia-1.1"
  },
  "language_info": {
   "file_extension": ".jl",
   "mimetype": "application/julia",
   "name": "julia",
   "version": "1.1.0"
  }
 },
 "nbformat": 4,
 "nbformat_minor": 2
}

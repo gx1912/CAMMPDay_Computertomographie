{
 "cells": [
  {
   "cell_type": "markdown",
   "metadata": {},
   "source": [
    "# Hilfekarte 10\n",
    "Wir schauen uns die Problemstellung zunächst einmal übertragen auf eine Gerade an. \n",
    "\n",
    "Die Gerade $f$ ist beschrieben durch folgende Gleichung in Parameterdarstellung: $f:\\vec{x} = \\begin{pmatrix}0\\\\3\\end{pmatrix}+t\\cdot\\begin{pmatrix}1\\\\2\\end{pmatrix}$.\n",
    "\n",
    "Berechnet den Punkt auf der Geraden $f$, der am nächsten zu dem orangenen Punkt $\\begin{pmatrix}2&1\\end{pmatrix}$ ist.\n",
    "\n",
    "![alternative text](figs/Gerade2.png)"
   ]
  },
  {
   "cell_type": "markdown",
   "metadata": {},
   "source": [
    "Übertragt diese Idee auf die gegebene Situation mit dem Punkt und der Ebene.\n",
    "\n",
    "Lest erst weiter, wenn ihr den nächsten Punkt selbst berechnet habt und eure Lösung vergleichen wollt."
   ]
  },
  {
   "cell_type": "markdown",
   "metadata": {},
   "source": [
    "# Lösung\n",
    "Der nächste Punkt auf der Geraden $f$ zu $\\begin{pmatrix}2&1\\end{pmatrix}$ ist der Punkt, der den Schnittpunkt zwischen der Geraden und der senkrecht auf der Geraden stehenden Gerade, die durch den orangenen Punkt verläuft.\n",
    "\n",
    "Um einen Vektor zu bestimmen, der senkrecht zu Geraden steht, wird ein Vektor gesucht, dessen Skalarprodukt mit dem Richtungsvektor der Geraden Null ergibt.\n",
    "\n",
    "$\\begin{eqnarray}\n",
    "    \\begin{pmatrix}1\\\\2\\end{pmatrix}\\cdot\\begin{pmatrix}x_1\\\\x_2\\end{pmatrix}&=&0\\nonumber\\\\\n",
    "    \\Leftrightarrow x_1+2\\cdot x_2 &=& 0\n",
    " \\end{eqnarray}$\n",
    "\n",
    "An dieser Stelle muss für entweder $x_1$ oder $x_2$ ein Wert eingesetzt werden, um einen Vektor auszuwählen. Hier wird $x_1=2$ gesetzt, woraus sich $x_2=-1$ ergibt. Nun muss mit Hilfe dieses Vektors und dem orangenen Punkt eine Gerade aufgestellt werden $f:\\vec{x} = \\begin{pmatrix}2\\\\1\\end{pmatrix}+t\\cdot\\begin{pmatrix}2\\\\-1\\end{pmatrix}$ und der Schnittpunkt mit der blauen Geraden gesucht werden.\n",
    "\n",
    "$\\begin{pmatrix}0\\\\3\\end{pmatrix}+t\\cdot\\begin{pmatrix}1\\\\2\\end{pmatrix}=\\begin{pmatrix}2\\\\1\\end{pmatrix}+t\\cdot\\begin{pmatrix}2\\\\-1\\end{pmatrix}\\\\\n",
    "    \\begin{eqnarray}\\Leftrightarrow I.\\qquad  t &=& 2+2s\\nonumber\\\\\n",
    "    II. 3+2t&=&1-s\n",
    " \\end{eqnarray}$\n",
    "\n",
    "Einsetzen der ersten Gleichung in die zweite ergibt: $3+4+4s=1-s \\Leftrightarrow s = -\\frac{6}{5}$ und somit $t = -\\frac{2}{5}$.\n",
    "\n",
    "Daraus folgt durch einsetzen der beiden Parameter in die Geraden $f$ und $g$, dass die Geraden sich in Punkt $P(-\\frac{2}{5}|\\frac{11}{5})$ schneiden."
   ]
  },
  {
   "cell_type": "code",
   "execution_count": null,
   "metadata": {},
   "outputs": [],
   "source": []
  }
 ],
 "metadata": {
  "kernelspec": {
   "display_name": "Julia 1.1.0",
   "language": "julia",
   "name": "julia-1.1"
  },
  "language_info": {
   "file_extension": ".jl",
   "mimetype": "application/julia",
   "name": "julia",
   "version": "1.1.0"
  }
 },
 "nbformat": 4,
 "nbformat_minor": 2
}

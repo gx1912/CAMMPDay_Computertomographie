{
 "cells": [
  {
   "cell_type": "markdown",
   "metadata": {},
   "source": [
    "# Hilfekarte 7\n",
    "Dadurch, dass man in der Parameterdarstellung den Parameter hat, ist es egal, wie lang der Richtungsvektor ist, da dieser durch die Multiplikation mit dem Parameter gekürzt oder verlängert werden kann. Aus diesem Grund schauen wir uns die orangenen Punkte an und wollen bestimmen, welche Auswinkungen die Verschiebung des Punktes vom unteren zum oberen auf die $x_1$- und $x_2$-Koordinaten des Punktes hat. Der Punkt wird dabei um eine Längeneinheit entlang des Strahls verschoben.\n",
    "\n",
    "Bestimmt die Längen $a$ und $b$. Was bedeutet das für euren Richtungsvektor?\n",
    "\n",
    "![alternative text](figs/Para1.png)"
   ]
  },
  {
   "cell_type": "code",
   "execution_count": null,
   "metadata": {},
   "outputs": [],
   "source": []
  }
 ],
 "metadata": {
  "kernelspec": {
   "display_name": "Julia 1.1.0",
   "language": "julia",
   "name": "julia-1.1"
  },
  "language_info": {
   "file_extension": ".jl",
   "mimetype": "application/julia",
   "name": "julia",
   "version": "1.1.0"
  }
 },
 "nbformat": 4,
 "nbformat_minor": 2
}

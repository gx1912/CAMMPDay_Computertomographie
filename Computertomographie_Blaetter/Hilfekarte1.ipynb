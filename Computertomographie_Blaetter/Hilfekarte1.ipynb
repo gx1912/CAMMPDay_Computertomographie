{
 "cells": [
  {
   "cell_type": "markdown",
   "metadata": {},
   "source": [
    "# Hilfekarte 1\n",
    "Die Pixellängen und -kanten haben jeweils die Länge 1. Das bedeutet, dass horizontale und vertikale Strahlen beim Durchlaufen eines Pixels genau so stark abgeschwächt werden, wie der Grauwert des Pixels groß ist."
   ]
  },
  {
   "cell_type": "code",
   "execution_count": null,
   "metadata": {},
   "outputs": [],
   "source": []
  }
 ],
 "metadata": {
  "kernelspec": {
   "display_name": "Julia 1.1.0",
   "language": "julia",
   "name": "julia-1.1"
  },
  "language_info": {
   "file_extension": ".jl",
   "mimetype": "application/julia",
   "name": "julia",
   "version": "1.1.0"
  }
 },
 "nbformat": 4,
 "nbformat_minor": 2
}

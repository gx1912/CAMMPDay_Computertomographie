{
 "cells": [
  {
   "cell_type": "markdown",
   "metadata": {},
   "source": [
    "# Hilfekarte 15\n",
    "Eine Gleichung, die von mehreren Variablen abhängt, kann man einzeln nach jeder Variabel ableiten:\n",
    "\n",
    "Beispiel: $h(x,y) = x^2+4y-3$\n",
    "\n",
    "Abgeleitet nach $x$ ergibt dies: $h'(x,y) = 2x$.\n",
    "\n",
    "Abgeleitet nach $y$ ergibt dies: $h'(x,y) = 4$.\n",
    "\n",
    "Insgesamt bedeutet dies, dass die Ableitung nach beiden, was Gradient $\\nabla$ genannt wird, durch den folgenden Vektor beschrieben wird: $\\nabla h(x,y)=\\pmatrix{2x\\cr 4}$.\n",
    "\n",
    "Übertragt dieses Vorgehen eure Gleichung."
   ]
  },
  {
   "cell_type": "code",
   "execution_count": null,
   "metadata": {},
   "outputs": [],
   "source": []
  }
 ],
 "metadata": {
  "kernelspec": {
   "display_name": "Julia 1.1.0",
   "language": "julia",
   "name": "julia-1.1"
  },
  "language_info": {
   "file_extension": ".jl",
   "mimetype": "application/julia",
   "name": "julia",
   "version": "1.1.0"
  }
 },
 "nbformat": 4,
 "nbformat_minor": 2
}

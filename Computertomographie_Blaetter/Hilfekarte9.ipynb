{
 "cells": [
  {
   "cell_type": "markdown",
   "metadata": {},
   "source": [
    "# Hilfekarte 9\n",
    "Ein Matrixeintrag kann durch $Matrix[Z,S]$ beschrieben werden, wobei Z für Zeile und S für Spalte steht. Um in der gleichen Formel zusätzlich auf den rechten Nachbar zuzugreifen kann $Matrix[Z,S+1]$ verwendet werden, da er sich in der gleichen Zeile eine Spalte weiter rechts befindet. Der Matrixeintrag unter $Matrix[Z,S]$ wird durch $Matrix[Z+1,S]$ beschrieben, da er sich in der gleichen Spalte, aber eine Zeile weiter unten befindet."
   ]
  }
 ],
 "metadata": {
  "kernelspec": {
   "display_name": "Julia 1.1.0",
   "language": "julia",
   "name": "julia-1.1"
  },
  "language_info": {
   "file_extension": ".jl",
   "mimetype": "application/julia",
   "name": "julia",
   "version": "1.1.0"
  }
 },
 "nbformat": 4,
 "nbformat_minor": 2
}

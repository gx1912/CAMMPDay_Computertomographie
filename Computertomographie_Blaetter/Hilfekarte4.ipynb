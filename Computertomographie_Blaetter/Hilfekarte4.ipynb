{
 "cells": [
  {
   "cell_type": "markdown",
   "metadata": {},
   "source": [
    "# Hilfekarte 4\n",
    "Verwendet den Satz von Pythagoras, um die neuen Längen zu berechnen und tragt die neue Zahl als Matrixeintrag ein. \n",
    "\n",
    "Fertigt hierfür gegebenenfalls eine Skizze als Hilfe an. Diesen Faktor müsst ihr auch bei der Berechnung von $m$ berücksichtigen."
   ]
  }
 ],
 "metadata": {
  "kernelspec": {
   "display_name": "Julia 1.1.0",
   "language": "julia",
   "name": "julia-1.1"
  },
  "language_info": {
   "file_extension": ".jl",
   "mimetype": "application/julia",
   "name": "julia",
   "version": "1.1.0"
  }
 },
 "nbformat": 4,
 "nbformat_minor": 2
}

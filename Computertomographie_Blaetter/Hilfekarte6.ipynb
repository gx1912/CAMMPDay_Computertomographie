{
 "cells": [
  {
   "cell_type": "markdown",
   "metadata": {},
   "source": [
    "# Hilfekarte 6\n",
    "Angenommen ihr betrachtet den folgenden Strahl und wollt nun die Punkte bestimmen, in denen der Strahl die Pixelkanten schneidet. Wichtig ist, dass ihr den Winkel $\\theta$ und den Startpunkt in dem der Strahl in das Objekt eintritt kennt. Dann könnt ihr das grün eingezeichnete Dreieck verwenden, um den Schnittpunkt mit der ersten vertikalen Pixelkante zu bestimmen. Überlegt euch hierfür welche Seitenlängen und Winkel von dem Dreieck ihr bestimmen könnt und verwendet anschließend den Sinus, Cosinus oder Tangens. Wie die definiert sind, findet ihr auf Hilfekarte 5.\n",
    "\n",
    "![alternative text](figs/WinkelKoerper4.png)"
   ]
  },
  {
   "cell_type": "code",
   "execution_count": null,
   "metadata": {},
   "outputs": [],
   "source": []
  }
 ],
 "metadata": {
  "kernelspec": {
   "display_name": "Julia 1.1.0",
   "language": "julia",
   "name": "julia-1.1"
  },
  "language_info": {
   "file_extension": ".jl",
   "mimetype": "application/julia",
   "name": "julia",
   "version": "1.1.0"
  }
 },
 "nbformat": 4,
 "nbformat_minor": 2
}

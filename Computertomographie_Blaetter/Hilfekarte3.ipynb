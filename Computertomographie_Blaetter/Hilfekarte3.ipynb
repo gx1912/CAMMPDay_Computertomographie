{
 "cells": [
  {
   "cell_type": "markdown",
   "metadata": {},
   "source": [
    "# Hilfekarte 3\n",
    "Verlaufen die Strahlen, die nun hinzugefügt wurden, nicht senkrecht oder horizontal durch das Objekt, so verlängert sich die zurückgelegte Strecke im Pixel. Der Matrixeintrag ist somit nicht mehr gleich 1. \n",
    "\n",
    "Schaut euch den Verlauf eures Strahls an und bestimmt die neuen Längen."
   ]
  }
 ],
 "metadata": {
  "kernelspec": {
   "display_name": "Julia 1.1.0",
   "language": "julia",
   "name": "julia-1.1"
  },
  "language_info": {
   "file_extension": ".jl",
   "mimetype": "application/julia",
   "name": "julia",
   "version": "1.1.0"
  }
 },
 "nbformat": 4,
 "nbformat_minor": 2
}
